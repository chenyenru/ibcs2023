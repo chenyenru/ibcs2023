{
 "cells": [
  {
   "cell_type": "code",
   "execution_count": 1,
   "id": "515d584d-98d5-4c70-94d4-06d6417d5e49",
   "metadata": {},
   "outputs": [],
   "source": [
    "import nltk\n",
    "nltk.download()"
   ]
  },
  {
   "cell_type": "code",
   "execution_count": null,
   "id": "9c5e8acd-130a-4e38-9fb9-b4debcc1c6a9",
   "metadata": {},
   "outputs": [],
   "source": [
    "class File():\n",
    "    "
   ]
  }
 ],
 "metadata": {
  "interpreter": {
   "hash": "159d6462887b7ae0e6a4f5ee8eb24bffdec8d457511a0c750bbcaf57f19b777e"
  },
  "kernelspec": {
   "display_name": "nlp_lang",
   "language": "python",
   "name": "python3"
  },
  "language_info": {
   "codemirror_mode": {
    "name": "ipython",
    "version": 3
   },
   "file_extension": ".py",
   "mimetype": "text/x-python",
   "name": "python",
   "nbconvert_exporter": "python",
   "pygments_lexer": "ipython3",
   "version": "3.8.5"
  }
 },
 "nbformat": 4,
 "nbformat_minor": 5
}
