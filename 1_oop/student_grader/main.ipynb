{
 "cells": [
  {
   "cell_type": "code",
   "execution_count": 5,
   "metadata": {},
   "outputs": [
    {
     "ename": "ModuleNotFoundError",
     "evalue": "No module named 'pandas'",
     "output_type": "error",
     "traceback": [
      "\u001b[0;31m---------------------------------------------------------------------------\u001b[0m",
      "\u001b[0;31mModuleNotFoundError\u001b[0m                       Traceback (most recent call last)",
      "\u001b[0;32m/var/folders/0y/bnh8rvg11rd93vjf0f787p980000gn/T/ipykernel_10866/584824882.py\u001b[0m in \u001b[0;36m<module>\u001b[0;34m\u001b[0m\n\u001b[1;32m      1\u001b[0m \u001b[0;32mimport\u001b[0m \u001b[0mcsv\u001b[0m\u001b[0;34m\u001b[0m\u001b[0;34m\u001b[0m\u001b[0m\n\u001b[0;32m----> 2\u001b[0;31m \u001b[0;32mimport\u001b[0m \u001b[0mpandas\u001b[0m \u001b[0;32mas\u001b[0m \u001b[0mpd\u001b[0m\u001b[0;34m\u001b[0m\u001b[0;34m\u001b[0m\u001b[0m\n\u001b[0m",
      "\u001b[0;31mModuleNotFoundError\u001b[0m: No module named 'pandas'"
     ]
    }
   ],
   "source": [
    "import csv\n",
    "import pandas as pd"
   ]
  },
  {
   "cell_type": "code",
   "execution_count": 2,
   "metadata": {},
   "outputs": [],
   "source": [
    "class Student:\n",
    "    def __init__(self, std_id, first_name, last_name, enrolled_subjects):\n",
    "        self._std_id = std_id\n",
    "        self.first_name = first_name\n",
    "        self.last_name = last_name\n",
    "        self.enrolled_subjects = enrolled_subjects\n",
    "\n",
    "    def get_assignments_from_subject(subject_name):\n",
    "        pass\n",
    "    def show_grades(self):\n",
    "        for grade in range(len(self.enrolled_subjects)):\n",
    "            print({self.enrolled_subjects.get_assignements_for_student})\n",
    "    "
   ]
  },
  {
   "cell_type": "code",
   "execution_count": 3,
   "metadata": {},
   "outputs": [],
   "source": [
    "class Subject:\n",
    "    def __init__(self, name, std, std_asignmt):\n",
    "        self.name = name\n",
    "        self.std = std\n",
    "        self.std_asignmt = std_asignmt\n",
    "    def get_assignments_for_student(student_id) -> list: #of assigments and student marks\n",
    "        pass\n",
    "    def get_student_grade(student_id) -> float:\n",
    "        pass\n",
    "    def get_student_grades() -> list: #of student ids and grades\n",
    "        pass\n"
   ]
  },
  {
   "cell_type": "code",
   "execution_count": 4,
   "metadata": {},
   "outputs": [],
   "source": [
    "class Assignment:\n",
    "    def __init__(self, name, max_marks, grades):\n",
    "        self.name = name\n",
    "        self._max_marks = max_marks\n",
    "        self.grades = grades #[key, value]\n",
    "        \n",
    "    def get_mean(self) -> float:\n",
    "        return sum/len(self.grades)\n",
    "    def get_student_grade(self) -> float:\n",
    "        pass\n",
    "    def get_above(self, percent) -> list:\n",
    "        return [grade for grade in self.grades if grade > percent]\n",
    "    def get_below(self, percent) -> list:\n",
    "        return [grade for grade in self.grades if grade < percent]\n"
   ]
  },
  {
   "cell_type": "code",
   "execution_count": null,
   "metadata": {},
   "outputs": [],
   "source": []
  }
 ],
 "metadata": {
  "interpreter": {
   "hash": "aee8b7b246df8f9039afb4144a1f6fd8d2ca17a180786b69acc140d282b71a49"
  },
  "kernelspec": {
   "display_name": "Python 3.10.0 64-bit",
   "language": "python",
   "name": "python3"
  },
  "language_info": {
   "codemirror_mode": {
    "name": "ipython",
    "version": 3
   },
   "file_extension": ".py",
   "mimetype": "text/x-python",
   "name": "python",
   "nbconvert_exporter": "python",
   "pygments_lexer": "ipython3",
   "version": "3.9.6"
  },
  "orig_nbformat": 4
 },
 "nbformat": 4,
 "nbformat_minor": 2
}
