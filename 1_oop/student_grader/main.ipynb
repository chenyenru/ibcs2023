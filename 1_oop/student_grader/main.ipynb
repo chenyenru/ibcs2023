{
 "cells": [
  {
   "cell_type": "code",
   "execution_count": 20,
   "metadata": {},
   "outputs": [],
   "source": [
    "import pandas as pd\n",
    "import numpy as np"
   ]
  },
  {
   "cell_type": "code",
   "execution_count": 31,
   "metadata": {},
   "outputs": [],
   "source": [
    "class Student:\n",
    "    def __init__(self, std_id, first_name, last_name, std_file_path = 'data/Student.csv', exam_file_path = 'data/Assignment.csv'):\n",
    "        self._std_id = std_id\n",
    "        self.first_name = first_name\n",
    "        self.last_name = last_name\n",
    "        self.student_data = pd.read_csv(std_file_path)\n",
    "        self.exam_data = pd.read_csv(exam_file_path)\n",
    "        # getting the list of enrolled subjects\n",
    "\n",
    "    def get_assignments_from_subject(self, subject_name):\n",
    "        exam_data = self.exam_data\n",
    "        std_name = self.first_name\n",
    "        # print(f\"exam data: {exam_data}\\n\\n\")\n",
    "        mask = (exam_data[\"subject\"] == subject_name) & (exam_data[\"student_name\"] == std_name)\n",
    "        print(f\"\\n {exam_data[mask].to_string(index=False)}\")\n",
    "        # filtered_value = np.where(exam_data[\"subject\"] == subject_name & exam_data[\"student_name\"] == std_name)\n",
    "        # print(filtered_value)\n",
    "        \n",
    "        # print(exam_data[exam_data[\"subject\"] == subject_name & exam_data[\"student_name\"] == std_name])\n",
    "        # exam_data.query(f'subject == {subject_name_low} & student_name == {std_name}')\n",
    "        \n",
    "\n",
    "    def show_grades(self):\n",
    "        std_name = self.first_name\n",
    "        df = self.student_data\n",
    "        # self.enrolled_subjects = df.loc[df['first_name'] == std_name]\n",
    "        \n",
    "        # enrolled_subjects = self.enrolled_subjects\n",
    "        df = self.exam_data\n",
    "        new_df = df[df['student_name'] == std_name]\n",
    "        print(new_df.to_string(index=False))\n",
    "            \n",
    "    "
   ]
  },
  {
   "cell_type": "code",
   "execution_count": 22,
   "metadata": {},
   "outputs": [],
   "source": [
    "class Subject:\n",
    "    def __init__(self, subject_name, std_file_path = 'data/Student.csv', exam_file_path = 'data/Assignment.csv'):\n",
    "        self.name = subject_name.lower()\n",
    "        self.student_data = pd.read_csv(std_file_path)\n",
    "        self.exam_data = pd.read_csv(exam_file_path)\n",
    "        \n",
    "        mask = self.exam_data['subject'] == self.name\n",
    "        self.subject = self.exam_data[mask]\n",
    "\n",
    "    def get_assignments_for_student(self, student_id) -> list: \n",
    "        \"\"\"get assignments for student by their student id\"\"\"\n",
    "        mask1 = self.student_data[\"student_id\"] == student_id\n",
    "        std_spec = self.student_data[mask1][\"first_name\"]\n",
    "        # print(std_spec[0])\n",
    "        try: \n",
    "            mask2 = self.exam_data[\"student_name\"] == std_spec[0]\n",
    "        except KeyError:\n",
    "            print(\"please input a valid student id\")\n",
    "            return\n",
    "        output = self.exam_data[mask2][\"assignment_name\"][0]\n",
    "        print(output)\n",
    "        \n",
    "    def get_student_grade(self, student_id) -> float:\n",
    "        \"\"\"get student's grades by student_id\"\"\"\n",
    "        exam_data = self.exam_data\n",
    "        student_data = self.student_data\n",
    "        mask1 = student_data[\"student_id\"] == student_id\n",
    "        std_spec = student_data[mask1][\"first_name\"]\n",
    "        # print(std_spec[0])\n",
    "        try: \n",
    "            mask2 = exam_data[\"student_name\"] == std_spec[0]\n",
    "        except KeyError:\n",
    "            print(\"invalid student id, please find another\")\n",
    "            return\n",
    "        output = exam_data[mask2][[\"assignment_name\",\"grades\"]]\n",
    "        final_output = output.to_dict(\"records\")\n",
    "        \n",
    "    def get_student_grades(self) -> list: #of student ids and grades\n",
    "        print(self.subject)"
   ]
  },
  {
   "cell_type": "code",
   "execution_count": 27,
   "metadata": {},
   "outputs": [],
   "source": [
    "class Assignment:\n",
    "    def __init__(self, name, subject, exam_file_path = 'data/Assignment.csv'):\n",
    "        \"\"\"an object for assignment\"\"\"\n",
    "        self.name = name\n",
    "        self._max_marks = 8\n",
    "        self._exam_file_path = exam_file_path\n",
    "        self.data = pd.read_csv(exam_file_path)\n",
    "        self.subject = subject\n",
    "        # self.assignment = self.data[self.data[\"assignment_name\"] == self.name]\n",
    "        mask = self.data['assignment_name'] == name\n",
    "        self.assignment = self.data[mask]\n",
    "        \n",
    "    def get_mean(self) -> float:\n",
    "        \"\"\"get mean of student grades for this assignment\"\"\"\n",
    "        mean_grades = self.assignment['grades'].round(3).mean()\n",
    "        print(mean_grades)\n",
    "        return mean_grades\n",
    "\n",
    "    def get_student_grade(self) -> dict:\n",
    "        df = self.assignment\n",
    "        df = df.drop(['assignment_name', 'max_marks'], 1)\n",
    "        return df.to_dict('records')\n",
    "        # return self.assignment['grades']\n",
    "        \n",
    "    def get_above(self, percent) -> dict:\n",
    "        # percentile = np.percentile(self.assignment['grades'], percent)\n",
    "        df = self.assignment\n",
    "        # above = self.assignment.loc[self.assignment['grades'] > percent]\n",
    "        above = df[df['grades'] > np.percentile(df['grades'],percent)]\n",
    "        print(above.to_string(index=False))\n",
    "        # output = above.to_dict('records')\n",
    "        # return output\n",
    "    def get_below(self, percent) -> dict:\n",
    "       df = self.assignment\n",
    "       below = df[df['grades'] < np.percentile(df['grades'],percent)]\n",
    "       print(below.to_string(index=False))\n",
    "    #    output = below.to_dict('records')\n",
    "    #    return output\n"
   ]
  },
  {
   "cell_type": "markdown",
   "metadata": {},
   "source": [
    "test for Student"
   ]
  },
  {
   "cell_type": "code",
   "execution_count": 32,
   "metadata": {},
   "outputs": [
    {
     "name": "stdout",
     "output_type": "stream",
     "text": [
      "\n",
      "   student_name assignment_name  grades  max_marks      subject\n",
      "0      Rebecca      quadratics       5          8  mathematics\n",
      "4      Rebecca      logarithms       5          8  mathematics\n",
      "\n",
      "\n",
      "student_name assignment_name  grades  max_marks     subject\n",
      "     Rebecca      quadratics       5          8 mathematics\n",
      "     Rebecca      logarithms       5          8 mathematics\n"
     ]
    }
   ],
   "source": [
    "student1 = Student(\"91xw15\", \"Rebecca\", \"Chen\")\n",
    "\n",
    "student1.get_assignments_from_subject(\"mathematics\")\n",
    "print(\"\\n\")\n",
    "student1.show_grades()"
   ]
  },
  {
   "cell_type": "markdown",
   "metadata": {},
   "source": [
    "test for Subject"
   ]
  },
  {
   "cell_type": "code",
   "execution_count": null,
   "metadata": {},
   "outputs": [],
   "source": []
  },
  {
   "cell_type": "code",
   "execution_count": 33,
   "metadata": {},
   "outputs": [
    {
     "name": "stdout",
     "output_type": "stream",
     "text": [
      "quadratics\n"
     ]
    }
   ],
   "source": [
    "hello = Subject(\"mathematics\")\n",
    "hello.get_assignments_for_student(\"91xw15\")\n",
    "hello.get_student_grade(\"91xw15\")"
   ]
  },
  {
   "cell_type": "markdown",
   "metadata": {},
   "source": [
    "test for Assignment"
   ]
  },
  {
   "cell_type": "code",
   "execution_count": 35,
   "metadata": {},
   "outputs": [
    {
     "name": "stdout",
     "output_type": "stream",
     "text": [
      "student_name assignment_name  grades  max_marks     subject\n",
      "       Jamie      quadratics       8          8 mathematics\n"
     ]
    }
   ],
   "source": [
    "hello = Assignment('quadratics', subject='math')\n",
    "hello.get_above(90)\n",
    "#hello.get_below(80)"
   ]
  },
  {
   "cell_type": "code",
   "execution_count": null,
   "metadata": {},
   "outputs": [],
   "source": []
  },
  {
   "cell_type": "code",
   "execution_count": null,
   "metadata": {},
   "outputs": [],
   "source": []
  }
 ],
 "metadata": {
  "interpreter": {
   "hash": "aee8b7b246df8f9039afb4144a1f6fd8d2ca17a180786b69acc140d282b71a49"
  },
  "kernelspec": {
   "display_name": "Python 3.10.0 64-bit",
   "language": "python",
   "name": "python3"
  },
  "language_info": {
   "codemirror_mode": {
    "name": "ipython",
    "version": 3
   },
   "file_extension": ".py",
   "mimetype": "text/x-python",
   "name": "python",
   "nbconvert_exporter": "python",
   "pygments_lexer": "ipython3",
   "version": "3.9.6"
  },
  "orig_nbformat": 4
 },
 "nbformat": 4,
 "nbformat_minor": 2
}
