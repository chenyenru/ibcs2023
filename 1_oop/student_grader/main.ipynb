{
 "cells": [
  {
   "cell_type": "code",
   "execution_count": 54,
   "metadata": {},
   "outputs": [],
   "source": [
    "import csv\n",
    "import pandas as pd\n",
    "import numpy as np"
   ]
  },
  {
   "cell_type": "code",
   "execution_count": 55,
   "metadata": {},
   "outputs": [],
   "source": [
    "class Student:\n",
    "    def __init__(self, std_id, first_name, last_name, enrolled_subjects, std_file_path = 'data/Student.csv'):\n",
    "        self.data = pd.read_csv(std_file_path)\n",
    "        self._std_id = std_id\n",
    "        self.first_name = first_name\n",
    "        self.last_name = last_name\n",
    "        self.student_data = pd.read_csv(std_file_path)\n",
    "\n",
    "    def get_assignments_from_subject(subject_name):\n",
    "        \n",
    "        pass\n",
    "    def show_grades(self):\n",
    "        for grade in range(len(self.enrolled_subjects)):\n",
    "            print({self.enrolled_subjects.get_assignements_for_student})\n",
    "    "
   ]
  },
  {
   "cell_type": "code",
   "execution_count": 56,
   "metadata": {},
   "outputs": [],
   "source": [
    "class Subject:\n",
    "    def __init__(self, subject_name, std, std_file_path = 'data/Student.csv', exam_file_path = 'data/Assignment.csv'):\n",
    "        self.name = subject_name\n",
    "        self.std = std\n",
    "        self.student_data = pd.read_csv(std_file_path)\n",
    "        self.exam_data = pd.read_csv(exam_file_path)\n",
    "        mask = self.exam_data['subject_name'] == subject_name\n",
    "        self.subject = self.data[mask]\n",
    "\n",
    "    def get_assignments_for_student(self, student_id) -> list: #of assigments and student marks\n",
    "        mask = self.student_data[\"student_id\"] == student_id\n",
    "        std_spec = self.student_data[mask]\n",
    "        \n",
    "    def get_student_grade(self, student_id) -> float:\n",
    "\n",
    "        pass\n",
    "    def get_student_grades(self) -> list: #of student ids and grades\n",
    "        pass\n"
   ]
  },
  {
   "cell_type": "code",
   "execution_count": 123,
   "metadata": {},
   "outputs": [],
   "source": [
    "class Assignment:\n",
    "    def __init__(self, name, subject, exam_file_path = 'data/Assignment.csv'):\n",
    "        \"\"\"an object for assignment\"\"\"\n",
    "        self.name = name\n",
    "        self._max_marks = 8\n",
    "        self._exam_file_path = exam_file_path\n",
    "        self.data = pd.read_csv(exam_file_path)\n",
    "        self.subject = subject\n",
    "        # self.assignment = self.data[self.data[\"assignment_name\"] == self.name]\n",
    "        mask = self.data['assignment_name'] == name\n",
    "        self.assignment = self.data[mask]\n",
    "        \n",
    "    def get_mean(self) -> float:\n",
    "        \"\"\"get mean of student grades for this assignment\"\"\"\n",
    "        mean_grades = self.assignment['grades'].round(3).mean()\n",
    "        print(mean_grades)\n",
    "        return mean_grades\n",
    "\n",
    "    def get_student_grade(self) -> dict:\n",
    "        df = self.assignment\n",
    "        df = df.drop(['assignment_name', 'max_marks'], 1)\n",
    "        return df.to_dict('records')\n",
    "        # return self.assignment['grades']\n",
    "        \n",
    "    def get_above(self, percent) -> dict:\n",
    "        # percentile = np.percentile(self.assignment['grades'], percent)\n",
    "        df = self.assignment\n",
    "        # above = self.assignment.loc[self.assignment['grades'] > percent]\n",
    "        above = df[df['grades'] > np.percentile(df['grades'],95)]\n",
    "        print(above)\n",
    "        output = above.to_dict('records')\n",
    "        return output\n",
    "    def get_below(self, percent) -> dict:\n",
    "       df = self.assignment\n",
    "       below = df[df['grades'] < np.percentile(df['grades'],95)]\n",
    "       print(below)\n",
    "       output = below.to_dict('records')\n",
    "       return output\n"
   ]
  },
  {
   "cell_type": "code",
   "execution_count": 124,
   "metadata": {},
   "outputs": [
    {
     "name": "stdout",
     "output_type": "stream",
     "text": [
      "  student_name assignment_name  grades  max_marks  subject\n",
      "3        Jamie      quadratics       8          8     Math\n"
     ]
    },
    {
     "data": {
      "text/plain": [
       "[{'student_name': 'Jamie',\n",
       "  'assignment_name': 'quadratics',\n",
       "  'grades': 8,\n",
       "  'max_marks': 8,\n",
       "  ' subject': 'Math'}]"
      ]
     },
     "execution_count": 124,
     "metadata": {},
     "output_type": "execute_result"
    }
   ],
   "source": [
    "hello = Assignment('quadratics', subject='math')\n",
    "hello.get_above(70)"
   ]
  },
  {
   "cell_type": "code",
   "execution_count": null,
   "metadata": {},
   "outputs": [],
   "source": []
  },
  {
   "cell_type": "code",
   "execution_count": null,
   "metadata": {},
   "outputs": [],
   "source": []
  }
 ],
 "metadata": {
  "interpreter": {
   "hash": "aee8b7b246df8f9039afb4144a1f6fd8d2ca17a180786b69acc140d282b71a49"
  },
  "kernelspec": {
   "display_name": "Python 3.10.0 64-bit",
   "language": "python",
   "name": "python3"
  },
  "language_info": {
   "codemirror_mode": {
    "name": "ipython",
    "version": 3
   },
   "file_extension": ".py",
   "mimetype": "text/x-python",
   "name": "python",
   "nbconvert_exporter": "python",
   "pygments_lexer": "ipython3",
   "version": "3.9.6"
  },
  "orig_nbformat": 4
 },
 "nbformat": 4,
 "nbformat_minor": 2
}
