{
 "cells": [
  {
   "cell_type": "markdown",
   "source": [
    "## Tuple vs List Speed"
   ],
   "metadata": {}
  },
  {
   "cell_type": "code",
   "execution_count": 4,
   "source": [
    "# tuples.py\n",
    "\n",
    "# tuples are lie lists, but immutable (can't be changed later)\n",
    "# because they can't be mutated, they are slightly more space efficient\n",
    "import sys\n",
    "import time\n",
    "\n",
    "a_list = [1, 2, 3, 4, 5]\n",
    "a_tuple = (1, 2, 3, 4, 5)\n",
    "\n",
    "print('a_list size: ', sys.getsizeof(a_list))\n",
    "print('a_tuple size: ', sys.getsizeof(a_tuple))\n",
    "\n",
    "\"\"\"\n",
    "prints out:\n",
    "a_list size:  120\n",
    "a_tuple size:  80\n",
    "\n",
    "\"\"\"\n",
    "\n",
    "start_time = time.time()\n",
    "b_list = list(range(100000))\n",
    "end_time = time.time()\n",
    "print(f\"size:{sys.getsizeof(b_list)}\\nTime:{end_time - start_time}\")\n",
    "\n",
    "start_time = time.time()\n",
    "b_tuple = tuple(range(100000))\n",
    "end_time = time.time()\n",
    "print(f\"Size:{sys.getsizeof(b_tuple)}\\n Time: {end_time - start_time}\")"
   ],
   "outputs": [
    {
     "output_type": "stream",
     "name": "stdout",
     "text": [
      "a_list size:  120\n",
      "a_tuple size:  80\n",
      "size:800056\n",
      "Time:0.010848045349121094\n",
      "Size:800040\n",
      " Time: 0.0024089813232421875\n"
     ]
    }
   ],
   "metadata": {}
  },
  {
   "cell_type": "markdown",
   "source": [
    "## Tuple Operation"
   ],
   "metadata": {}
  },
  {
   "cell_type": "code",
   "execution_count": 6,
   "source": [
    "mytuple = (5,) * 10\n",
    "print(mytuple)\n",
    "\n",
    "mytuple = mytuple + (1, 2, 3)\n",
    "print(mytuple)\n",
    "\n",
    "\n",
    "print(f'Address: {hex(id(mytuple))}')\n",
    "mytuple = mytuple + (1, 2, 3)\n",
    "print(mytuple)\n",
    "print(f\"Address: {hex(id(mytuple))}\")"
   ],
   "outputs": [
    {
     "output_type": "stream",
     "name": "stdout",
     "text": [
      "(5, 5, 5, 5, 5, 5, 5, 5, 5, 5)\n",
      "(5, 5, 5, 5, 5, 5, 5, 5, 5, 5, 1, 2, 3)\n",
      "Address: 0x7f86f5b1ca60\n",
      "(5, 5, 5, 5, 5, 5, 5, 5, 5, 5, 1, 2, 3, 1, 2, 3)\n",
      "Address: 0x7f86f59c8300\n"
     ]
    }
   ],
   "metadata": {}
  },
  {
   "cell_type": "markdown",
   "source": [
    "the result above shows that tuple is immutable"
   ],
   "metadata": {}
  },
  {
   "cell_type": "code",
   "execution_count": null,
   "source": [],
   "outputs": [],
   "metadata": {}
  }
 ],
 "metadata": {
  "orig_nbformat": 4,
  "language_info": {
   "name": "python",
   "version": "3.9.6",
   "mimetype": "text/x-python",
   "codemirror_mode": {
    "name": "ipython",
    "version": 3
   },
   "pygments_lexer": "ipython3",
   "nbconvert_exporter": "python",
   "file_extension": ".py"
  },
  "kernelspec": {
   "name": "python3",
   "display_name": "Python 3.9.6 64-bit"
  },
  "interpreter": {
   "hash": "aee8b7b246df8f9039afb4144a1f6fd8d2ca17a180786b69acc140d282b71a49"
  }
 },
 "nbformat": 4,
 "nbformat_minor": 2
}