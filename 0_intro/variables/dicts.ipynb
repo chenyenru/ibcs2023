{
 "cells": [
  {
   "cell_type": "markdown",
   "source": [
    "## Initiates dict"
   ],
   "metadata": {}
  },
  {
   "cell_type": "code",
   "execution_count": 2,
   "source": [
    "mydict = {\n",
    "    \"give_name\": \"Yen-Ru\",\n",
    "    \"familiy_name\": \"Chen\",\n",
    "    \"age\": 16\n",
    "}\n",
    "\n",
    "print(mydict)"
   ],
   "outputs": [
    {
     "output_type": "stream",
     "name": "stdout",
     "text": [
      "{'give_name': 'Yen-Ru', 'familiy_name': 'Chen', 'age': 16}\n"
     ]
    }
   ],
   "metadata": {}
  },
  {
   "cell_type": "markdown",
   "source": [
    "## Accessing Data in a dictionary "
   ],
   "metadata": {}
  },
  {
   "cell_type": "code",
   "execution_count": 3,
   "source": [
    "givenName = mydict[\"give_name\"]\n",
    "print(givenName)\n",
    "\n",
    "#dictionaries do not store things in any particular order\n",
    "dictItems = mydict.items()\n",
    "print(dictItems)"
   ],
   "outputs": [
    {
     "output_type": "stream",
     "name": "stdout",
     "text": [
      "Yen-Ru\n",
      "dict_items([('give_name', 'Yen-Ru'), ('familiy_name', 'Chen'), ('age', 16)])\n"
     ]
    }
   ],
   "metadata": {}
  },
  {
   "cell_type": "markdown",
   "source": [
    "Thus, NEVER rely on the order in the dictionaries"
   ],
   "metadata": {}
  },
  {
   "cell_type": "markdown",
   "source": [
    "## Iterating over a dict"
   ],
   "metadata": {}
  },
  {
   "cell_type": "code",
   "execution_count": 13,
   "source": [
    "# method 1\n",
    "for k, v in mydict.items():\n",
    "    print(f'key:{k}\\t value:{v}\\n')\n",
    "\n",
    "# method 2 getting only the keys\n",
    "for k in mydict.keys():\n",
    "    print(f\"Key:{k}\\n\")\n",
    "\n",
    "# method 3 getting only the values\n",
    "for v in mydict.values():\n",
    "    print(f\"Value:{v}\\n\")\n",
    "\n",
    "# method 4 see if a key is in a dictionary\n",
    "hasKey = \"given_name\" in mydict\n",
    "print(hasKey)"
   ],
   "outputs": [
    {
     "output_type": "stream",
     "name": "stdout",
     "text": [
      "key:give_name\t value:Yen-Ru\n",
      "\n",
      "key:familiy_name\t value:Chen\n",
      "\n",
      "key:age\t value:16\n",
      "\n",
      "Key:give_name\n",
      "\n",
      "Key:familiy_name\n",
      "\n",
      "Key:age\n",
      "\n",
      "Value:Yen-Ru\n",
      "\n",
      "Value:Chen\n",
      "\n",
      "Value:16\n",
      "\n",
      "False\n"
     ]
    }
   ],
   "metadata": {}
  },
  {
   "cell_type": "markdown",
   "source": [
    "## Accessing Data in a dictionary"
   ],
   "metadata": {}
  },
  {
   "cell_type": "markdown",
   "source": [
    "### .get() method"
   ],
   "metadata": {}
  },
  {
   "cell_type": "code",
   "execution_count": null,
   "source": [
    "# Accessing data in a dictionary\n",
    "# BUT IT IS NOT SAFE BC IT CAN CRASH EASILY\n",
    "\"\"\"\n",
    "givenName = mydict[\"given_name\"]\n",
    "print(givenName)\n",
    "\n",
    "middleName = mydict[\"middle_name\"]\n",
    "print(middleName)\n",
    "\"\"\"\n",
    "# using .get() may be safer than using direct access\n",
    "givenName = mydict.get(\"given_name\")\n",
    "print(givenName)\n",
    "\n",
    "middleName = mydict.get(\"middle_name\")\n",
    "print(middleName)"
   ],
   "outputs": [],
   "metadata": {}
  },
  {
   "cell_type": "markdown",
   "source": [
    ".pop() and .popitem()"
   ],
   "metadata": {}
  },
  {
   "cell_type": "markdown",
   "source": [
    "pop means remove from the last one.\n",
    "==> since the order in dictionary is the constant, we should be careful with using \"pop\""
   ],
   "metadata": {}
  },
  {
   "cell_type": "code",
   "execution_count": 14,
   "source": [
    "something = mydict.popitem()\n",
    "print(something)\n",
    "print(mydict)"
   ],
   "outputs": [
    {
     "output_type": "stream",
     "name": "stdout",
     "text": [
      "('age', 16)\n",
      "{'give_name': 'Yen-Ru', 'familiy_name': 'Chen'}\n"
     ]
    }
   ],
   "metadata": {}
  },
  {
   "cell_type": "markdown",
   "source": [
    "### clear()"
   ],
   "metadata": {}
  },
  {
   "cell_type": "code",
   "execution_count": 15,
   "source": [
    "mydict.clear()\n",
    "print(mydict)\n",
    "\n",
    "mydict[\"one\"] = 1\n",
    "mydict[\"two\"] = 2\n",
    "print(mydict)"
   ],
   "outputs": [
    {
     "output_type": "stream",
     "name": "stdout",
     "text": [
      "{}\n",
      "{'one': 1, 'two': 2}\n"
     ]
    }
   ],
   "metadata": {}
  },
  {
   "cell_type": "markdown",
   "source": [
    "### del"
   ],
   "metadata": {}
  },
  {
   "cell_type": "code",
   "execution_count": 17,
   "source": [
    "del mydict[\"one\"]\n",
    "print(mydict)"
   ],
   "outputs": [
    {
     "output_type": "stream",
     "name": "stdout",
     "text": [
      "{'two': 2}\n"
     ]
    }
   ],
   "metadata": {}
  },
  {
   "cell_type": "code",
   "execution_count": null,
   "source": [],
   "outputs": [],
   "metadata": {}
  }
 ],
 "metadata": {
  "orig_nbformat": 4,
  "language_info": {
   "name": "python",
   "version": "3.9.6",
   "mimetype": "text/x-python",
   "codemirror_mode": {
    "name": "ipython",
    "version": 3
   },
   "pygments_lexer": "ipython3",
   "nbconvert_exporter": "python",
   "file_extension": ".py"
  },
  "kernelspec": {
   "name": "python3",
   "display_name": "Python 3.9.6 64-bit"
  },
  "interpreter": {
   "hash": "aee8b7b246df8f9039afb4144a1f6fd8d2ca17a180786b69acc140d282b71a49"
  }
 },
 "nbformat": 4,
 "nbformat_minor": 2
}