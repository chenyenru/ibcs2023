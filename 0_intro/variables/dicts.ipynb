{
 "cells": [
  {
   "cell_type": "markdown",
   "metadata": {},
   "source": [
    "## Initiates dict"
   ]
  },
  {
   "cell_type": "code",
   "execution_count": 2,
   "metadata": {},
   "outputs": [
    {
     "name": "stdout",
     "output_type": "stream",
     "text": [
      "{'give_name': 'Yen-Ru', 'familiy_name': 'Chen', 'age': 16}\n"
     ]
    }
   ],
   "source": [
    "mydict = {\n",
    "    \"give_name\": \"Yen-Ru\",\n",
    "    \"familiy_name\": \"Chen\",\n",
    "    \"age\": 16\n",
    "}\n",
    "\n",
    "print(mydict)"
   ]
  },
  {
   "cell_type": "markdown",
   "metadata": {},
   "source": [
    "## Accessing Data in a dictionary "
   ]
  },
  {
   "cell_type": "code",
   "execution_count": 3,
   "metadata": {},
   "outputs": [
    {
     "name": "stdout",
     "output_type": "stream",
     "text": [
      "Yen-Ru\n",
      "dict_items([('give_name', 'Yen-Ru'), ('familiy_name', 'Chen'), ('age', 16)])\n"
     ]
    }
   ],
   "source": [
    "givenName = mydict[\"give_name\"]\n",
    "print(givenName)\n",
    "\n",
    "#dictionaries do not store things in any particular order\n",
    "dictItems = mydict.items()\n",
    "print(dictItems)"
   ]
  },
  {
   "cell_type": "markdown",
   "metadata": {},
   "source": [
    "Thus, NEVER rely on the order in the dictionaries"
   ]
  },
  {
   "cell_type": "markdown",
   "metadata": {},
   "source": [
    "## Iterating over a dict"
   ]
  },
  {
   "cell_type": "code",
   "execution_count": 13,
   "metadata": {},
   "outputs": [
    {
     "name": "stdout",
     "output_type": "stream",
     "text": [
      "key:give_name\t value:Yen-Ru\n",
      "\n",
      "key:familiy_name\t value:Chen\n",
      "\n",
      "key:age\t value:16\n",
      "\n",
      "Key:give_name\n",
      "\n",
      "Key:familiy_name\n",
      "\n",
      "Key:age\n",
      "\n",
      "Value:Yen-Ru\n",
      "\n",
      "Value:Chen\n",
      "\n",
      "Value:16\n",
      "\n",
      "False\n"
     ]
    }
   ],
   "source": [
    "# method 1\n",
    "for k, v in mydict.items():\n",
    "    print(f'key:{k}\\t value:{v}\\n')\n",
    "\n",
    "# method 2 getting only the keys\n",
    "for k in mydict.keys():\n",
    "    print(f\"Key:{k}\\n\")\n",
    "\n",
    "# method 3 getting only the values\n",
    "for v in mydict.values():\n",
    "    print(f\"Value:{v}\\n\")\n",
    "\n",
    "# method 4 see if a key is in a dictionary\n",
    "hasKey = \"given_name\" in mydict\n",
    "print(hasKey)"
   ]
  },
  {
   "cell_type": "markdown",
   "metadata": {},
   "source": [
    "## Accessing Data in a dictionary"
   ]
  },
  {
   "cell_type": "markdown",
   "metadata": {},
   "source": [
    "### .get() method"
   ]
  },
  {
   "cell_type": "code",
   "execution_count": null,
   "metadata": {},
   "outputs": [],
   "source": [
    "# Accessing data in a dictionary\n",
    "# BUT IT IS NOT SAFE BC IT CAN CRASH EASILY\n",
    "\"\"\"\n",
    "givenName = mydict[\"given_name\"]\n",
    "print(givenName)\n",
    "\n",
    "middleName = mydict[\"middle_name\"]\n",
    "print(middleName)\n",
    "\"\"\"\n",
    "# using .get() may be safer than using direct access\n",
    "givenName = mydict.get(\"given_name\")\n",
    "print(givenName)\n",
    "\n",
    "middleName = mydict.get(\"middle_name\")\n",
    "print(middleName)"
   ]
  },
  {
   "cell_type": "markdown",
   "metadata": {},
   "source": [
    ".pop() and .popitem()"
   ]
  },
  {
   "cell_type": "markdown",
   "metadata": {},
   "source": [
    "pop means remove from the last one.\n",
    "==> since the order in dictionary is the constant, we should be careful with using \"pop\""
   ]
  },
  {
   "cell_type": "code",
   "execution_count": 14,
   "metadata": {},
   "outputs": [
    {
     "name": "stdout",
     "output_type": "stream",
     "text": [
      "('age', 16)\n",
      "{'give_name': 'Yen-Ru', 'familiy_name': 'Chen'}\n"
     ]
    }
   ],
   "source": [
    "something = mydict.popitem()\n",
    "print(something)\n",
    "print(mydict)"
   ]
  },
  {
   "cell_type": "markdown",
   "metadata": {},
   "source": [
    "### clear()"
   ]
  },
  {
   "cell_type": "code",
   "execution_count": 15,
   "metadata": {},
   "outputs": [
    {
     "name": "stdout",
     "output_type": "stream",
     "text": [
      "{}\n",
      "{'one': 1, 'two': 2}\n"
     ]
    }
   ],
   "source": [
    "mydict.clear()\n",
    "print(mydict)\n",
    "\n",
    "mydict[\"one\"] = 1\n",
    "mydict[\"two\"] = 2\n",
    "print(mydict)"
   ]
  },
  {
   "cell_type": "markdown",
   "metadata": {},
   "source": [
    "### del"
   ]
  },
  {
   "cell_type": "code",
   "execution_count": 17,
   "metadata": {},
   "outputs": [
    {
     "name": "stdout",
     "output_type": "stream",
     "text": [
      "{'two': 2}\n"
     ]
    }
   ],
   "source": [
    "del mydict[\"one\"]\n",
    "print(mydict)"
   ]
  },
  {
   "cell_type": "code",
   "execution_count": null,
   "metadata": {},
   "outputs": [],
   "source": []
  }
 ],
 "metadata": {
  "interpreter": {
   "hash": "aee8b7b246df8f9039afb4144a1f6fd8d2ca17a180786b69acc140d282b71a49"
  },
  "kernelspec": {
   "display_name": "Python 3.9.6 64-bit",
   "name": "python3"
  },
  "language_info": {
   "codemirror_mode": {
    "name": "ipython",
    "version": 3
   },
   "file_extension": ".py",
   "mimetype": "text/x-python",
   "name": "python",
   "nbconvert_exporter": "python",
   "pygments_lexer": "ipython3",
   "version": "3.9.6"
  },
  "orig_nbformat": 4
 },
 "nbformat": 4,
 "nbformat_minor": 2
}
