{
 "cells": [
  {
   "cell_type": "markdown",
   "metadata": {},
   "source": [
    "# Functions Lessons"
   ]
  },
  {
   "cell_type": "code",
   "execution_count": 51,
   "metadata": {},
   "outputs": [
    {
     "name": "stdout",
     "output_type": "stream",
     "text": [
      "I'm a function\n",
      "20\n",
      "5\n",
      "5\n",
      "[5]\n",
      "[6]\n"
     ]
    }
   ],
   "source": [
    "def myFun():\n",
    "    print(\"I'm a function\")\n",
    "\n",
    "\n",
    "myFun()  # execute only when calling it\n",
    "\n",
    "\n",
    "def area(w: float, h: float) -> float:  #:specify datatype, -> datatype to return\n",
    "    \"\"\"area function returns the area of a quadrilateral\n",
    "    Attributes\n",
    "        w: width of the quadrilateral\n",
    "        h: height of the quadrilateral\n",
    "    Returns:\n",
    "        width * height\"\"\"  # description of the function\n",
    "    return w * h\n",
    "\n",
    "\n",
    "a = area(4, 5)  # storing a fucntion\n",
    "print(a)\n",
    "\n",
    "\n",
    "def increment(x: int) -> None:  # when def(int, float, ...) --> copying the value\n",
    "    x = x + 1\n",
    "\n",
    "\n",
    "x = 5\n",
    "print(x)\n",
    "increment(x)\n",
    "print(x)  # x didn't change\n",
    "\n",
    "\n",
    "def incrementList(x: list) -> None:  # when def(list) --> copying the memory address\n",
    "    x[0] = x[0] + 1\n",
    "\n",
    "\n",
    "x = [5]\n",
    "print(x)\n",
    "incrementList(x)\n",
    "print(x)  # x changed\n",
    "\n",
    "\n",
    "def nth_root (num: float, root: int, prec: float = 1e-20) -> float:  # assign vlaue --> default value\n",
    "    if num < 0 and root % 2 == 0:\n",
    "        raise ValueError(\n",
    "            f\"No even roots of negative numbers: num={num}\"\n",
    "        )  # stops the program\n",
    "    if root < 0:\n",
    "        raise ValueError(f\"No negative roots: root={root}\")\n",
    "    if num == 0:\n",
    "        return 0\n",
    "    if root == 0:\n",
    "        return 1\n",
    "\n",
    "    def f(\n",
    "        x: float, r: float, g: float\n",
    "    ) -> float:  # represents the bottom (guess ** root - num)\n",
    "        return g ** r - x\n",
    "\n",
    "    def df(\n",
    "        r: float, g: float\n",
    "    ) -> float:  # represents the bottom (root * root ** (root - 1))\n",
    "        return r * g ** (r - 1)\n",
    "\n",
    "    # This is our initial guess at an answer\n",
    "    # There are more advanced ways to choose this\n",
    "    guess = 1\n",
    "    prev = 0\n",
    "    while abs(guess - prev) > prec:\n",
    "        prev = guess\n",
    "        # guess -= (guess ** root - num) / (root * guess ** (root - 1))\n",
    "        guess -= f(x=num, r=root, g=guess) / df(\n",
    "            root, guess\n",
    "        )  # xxx = xxx --> labeling the variables makes it easier to undersand\n",
    "    return guess\n",
    "\n",
    "\n",
    "r = nth_root(2, 2)\n",
    "print(r)"
   ]
  },
  {
   "cell_type": "code",
   "execution_count": null,
   "metadata": {},
   "outputs": [],
   "source": [
    "r = nth_root(root=4, num=81)\n",
    "print(r)\n",
    "\n",
    "# In Python, functions are first-class members\n",
    "myvar = nth_root # directly creates a pointer\n",
    "\n",
    "r = myvar(num=625, root=4)\n",
    "print(r)"
   ]
  },
  {
   "cell_type": "code",
   "execution_count": 8,
   "metadata": {},
   "outputs": [],
   "source": [
    "def even_handler(val:int) -> None:\n",
    "    print(f\"{val} is divisible by 2\")\n",
    "\n",
    "def odd_handler(val:int) -> None:\n",
    "    print(\"Eeew, I don't like odd numbers\")\n",
    "\n",
    "def odd_handler2(val:int) -> None:\n",
    "    val += 1\n",
    "    print(\"Value is odd number, but I'll call it {val}\")\n",
    "def do_a_thing(even_callback, odd_callback)-> None:\n",
    "    for i in range(20):\n",
    "        if i % 2 == 0:\n",
    "            even_callback(i)\n",
    "        else:\n",
    "            odd_callback(i)"
   ]
  },
  {
   "cell_type": "code",
   "execution_count": 9,
   "metadata": {},
   "outputs": [
    {
     "name": "stdout",
     "output_type": "stream",
     "text": [
      "0 is divisible by 2\n",
      "Eeew, I don't like odd numbers\n",
      "2 is divisible by 2\n",
      "Eeew, I don't like odd numbers\n",
      "4 is divisible by 2\n",
      "Eeew, I don't like odd numbers\n",
      "6 is divisible by 2\n",
      "Eeew, I don't like odd numbers\n",
      "8 is divisible by 2\n",
      "Eeew, I don't like odd numbers\n",
      "10 is divisible by 2\n",
      "Eeew, I don't like odd numbers\n",
      "12 is divisible by 2\n",
      "Eeew, I don't like odd numbers\n",
      "14 is divisible by 2\n",
      "Eeew, I don't like odd numbers\n",
      "16 is divisible by 2\n",
      "Eeew, I don't like odd numbers\n",
      "18 is divisible by 2\n",
      "Eeew, I don't like odd numbers\n"
     ]
    }
   ],
   "source": [
    "do_a_thing(even_handler, odd_handler)"
   ]
  },
  {
   "cell_type": "markdown",
   "metadata": {},
   "source": [
    "## Generators"
   ]
  },
  {
   "cell_type": "code",
   "execution_count": 17,
   "metadata": {},
   "outputs": [
    {
     "name": "stdout",
     "output_type": "stream",
     "text": [
      "1\n",
      "4\n",
      "9\n",
      "16\n",
      "25\n",
      "36\n",
      "49\n",
      "64\n",
      "81\n",
      "100\n"
     ]
    }
   ],
   "source": [
    "def squares() -> int:\n",
    "    n = 1\n",
    "    while True: # this is fine because this is an infinite generator\n",
    "        yield n ** 2 # a special return\n",
    "        n+=1\n",
    "\n",
    "val = squares() # val is now a generator object\n",
    "\n",
    "for i in range(10):\n",
    "    result = next(val)\n",
    "    print(result)"
   ]
  },
  {
   "cell_type": "markdown",
   "metadata": {},
   "source": [
    "### Using Generators for Fibnoacci Numbers! 😆"
   ]
  },
  {
   "cell_type": "markdown",
   "metadata": {},
   "source": [
    "usually done with recursion, but now, NO!"
   ]
  },
  {
   "cell_type": "code",
   "execution_count": 25,
   "metadata": {},
   "outputs": [
    {
     "name": "stdout",
     "output_type": "stream",
     "text": [
      "1\n",
      "1\n",
      "2\n",
      "3\n",
      "5\n",
      "8\n",
      "13\n",
      "21\n",
      "34\n",
      "55\n",
      "89\n",
      "144\n",
      "233\n",
      "377\n",
      "610\n",
      "987\n",
      "1597\n",
      "2584\n",
      "4181\n",
      "6765\n"
     ]
    }
   ],
   "source": [
    "def fibonacci_numbers(nums):\n",
    "    x, y = 0, 1\n",
    "    for _ in range(nums):\n",
    "        x, y = y, x + y\n",
    "        yield x\n",
    "\n",
    "gen = fibonacci_numbers(20)\n",
    "for i in range(20):\n",
    "     print(next(gen))\n"
   ]
  },
  {
   "cell_type": "markdown",
   "metadata": {},
   "source": [
    "# Functions Exercises"
   ]
  },
  {
   "cell_type": "markdown",
   "metadata": {},
   "source": [
    "### Write a function that calculates a factorial\n",
    "factorial(5) -> 120\n",
    "\n",
    "factorial(7) -> 5040\n",
    "\n",
    "factorial(10) -> 3628800"
   ]
  },
  {
   "cell_type": "code",
   "execution_count": 4,
   "metadata": {},
   "outputs": [],
   "source": [
    "def factorial(n: int) -> int:\n",
    "    val = 1\n",
    "    for  i in range(1, n+1):\n",
    "        val *= i\n",
    "    return val"
   ]
  },
  {
   "cell_type": "code",
   "execution_count": 12,
   "metadata": {},
   "outputs": [
    {
     "data": {
      "text/plain": [
       "1"
      ]
     },
     "execution_count": 12,
     "metadata": {},
     "output_type": "execute_result"
    }
   ],
   "source": [
    "factorial(0)"
   ]
  },
  {
   "cell_type": "code",
   "execution_count": null,
   "metadata": {},
   "outputs": [],
   "source": []
  },
  {
   "cell_type": "markdown",
   "metadata": {},
   "source": [
    "### Write a function that calculates a permutation\n",
    "\n",
    "n! / (n-r)!\n",
    "\n",
    "nPr(10, 10) -> 3628800\n",
    "\n",
    "nPr(10, 7) -> 6048\n",
    "\n",
    "nPr(10, 4) -> 5040\n"
   ]
  },
  {
   "cell_type": "code",
   "execution_count": 44,
   "metadata": {},
   "outputs": [],
   "source": [
    "def nPr(n: int, r: int) -> int:\n",
    "    return int(factorial(n)/factorial(n-r))"
   ]
  },
  {
   "cell_type": "code",
   "execution_count": 46,
   "metadata": {},
   "outputs": [
    {
     "data": {
      "text/plain": [
       "30"
      ]
     },
     "execution_count": 46,
     "metadata": {},
     "output_type": "execute_result"
    }
   ],
   "source": [
    "nPr(6, 2)"
   ]
  },
  {
   "cell_type": "markdown",
   "metadata": {},
   "source": [
    "### Write a function that calculates a combination\n",
    "\n",
    "n! / (r!(n-r)!)\n",
    "\n",
    "nCr(10, 10) -> 1\n",
    "\n",
    "nCr(10, 7) -> 120\n",
    "\n",
    "nCr(10, 4) -> 210"
   ]
  },
  {
   "cell_type": "code",
   "execution_count": 48,
   "metadata": {},
   "outputs": [],
   "source": [
    "def nCr(n: int, r: int) -> int:\n",
    "    return int(factorial(n)/(factorial(r)*factorial(n-r)))"
   ]
  },
  {
   "cell_type": "code",
   "execution_count": 49,
   "metadata": {},
   "outputs": [
    {
     "data": {
      "text/plain": [
       "15"
      ]
     },
     "execution_count": 49,
     "metadata": {},
     "output_type": "execute_result"
    }
   ],
   "source": [
    "nCr(6, 2)"
   ]
  },
  {
   "cell_type": "markdown",
   "metadata": {},
   "source": [
    "### Write a function that returns a list of n rows of Pascal's Triangle\n",
    "pascals_triangle(3) -> [[1], [1, 1], [1, 2, 1]]\n",
    "\n",
    "pascals_triangle(6) -> [[1], [1, 1], [1, 2, 1], [1, 3, 3, 1], [1, 4, 6, 4, 1], [1, 5, 10, 10, 5, 1]]\n",
    "\n",
    "pascals_triangle(9) -> [[1], [1, 1], [1, 2, 1], [1, 3, 3, 1], [1, 4, 6, 4, 1], [1, 5, 10, 10, 5, 1], [1, 6, 15, 20, 15, 6, 1], [1, 7, 21, 35, 35, 21, 7, 1], [1, 8, 28, 56, 70, 56, 28, 8, 1]]"
   ]
  },
  {
   "cell_type": "code",
   "execution_count": 15,
   "metadata": {},
   "outputs": [],
   "source": [
    "def pascals_triangle_brent(n: int) -> list:\n",
    "    rows = []\n",
    "    for n in range(n):\n",
    "        row = []\n",
    "        for r in range(n+1):\n",
    "            term = nCr(n, r)\n",
    "            row.append"
   ]
  },
  {
   "cell_type": "markdown",
   "metadata": {},
   "source": [
    "### Write a generator that produces a string of * characters, each line one \n",
    "longer than the previous\n",
    "\n",
    "gen = star_gen()\n",
    "\n",
    "next(gen) -> *\n",
    "\n",
    "next(gen) -> **\n",
    "\n",
    "next(gen) -> ***\n",
    "\n",
    "next(gen) -> ****\n",
    "\n",
    "next(gen) -> *****"
   ]
  },
  {
   "cell_type": "code",
   "execution_count": 25,
   "metadata": {},
   "outputs": [],
   "source": [
    "def star() -> str:\n",
    "    while True:\n",
    "         yield i * \"*\""
   ]
  },
  {
   "cell_type": "code",
   "execution_count": 26,
   "metadata": {},
   "outputs": [
    {
     "name": "stdout",
     "output_type": "stream",
     "text": [
      "\n",
      "*\n",
      "**\n",
      "***\n",
      "****\n",
      "*****\n",
      "******\n",
      "*******\n",
      "********\n",
      "*********\n"
     ]
    }
   ],
   "source": [
    "gen = star()\n",
    "for i in range(10):\n",
    "    print(next(gen))"
   ]
  },
  {
   "cell_type": "markdown",
   "metadata": {},
   "source": [
    "### Seive of eratosthenes\n",
    "Create a generator function that will return the next prime number using\n",
    "\n",
    "the seive of eratosthenes\n",
    "\n",
    "gen = prime()\n",
    "\n",
    "next(gen) -> 2\n",
    "\n",
    "next(gen) -> 3\n",
    "\n",
    "next(gen) -> 5\n",
    "\n",
    "next(gen) -> 7\n",
    "\n",
    "next(gen) -> 11"
   ]
  },
  {
   "cell_type": "code",
   "execution_count": 27,
   "metadata": {},
   "outputs": [
    {
     "name": "stdout",
     "output_type": "stream",
     "text": [
      "2\n",
      "3\n",
      "5\n",
      "7\n",
      "11\n",
      "13\n",
      "17\n",
      "19\n",
      "23\n",
      "29\n",
      "31\n",
      "37\n",
      "41\n",
      "43\n",
      "47\n",
      "53\n",
      "59\n",
      "61\n",
      "67\n",
      "71\n",
      "73\n",
      "79\n",
      "83\n",
      "89\n",
      "97\n",
      "101\n",
      "103\n",
      "107\n",
      "109\n",
      "113\n",
      "127\n",
      "131\n",
      "137\n",
      "139\n",
      "149\n",
      "151\n",
      "157\n",
      "163\n",
      "167\n",
      "173\n",
      "179\n",
      "181\n",
      "191\n",
      "193\n",
      "197\n",
      "199\n",
      "211\n",
      "223\n",
      "227\n",
      "229\n",
      "233\n",
      "239\n",
      "241\n",
      "251\n",
      "257\n",
      "263\n",
      "269\n",
      "271\n",
      "277\n",
      "281\n",
      "283\n",
      "293\n",
      "307\n",
      "311\n",
      "313\n",
      "317\n",
      "331\n",
      "337\n",
      "347\n",
      "349\n",
      "353\n",
      "359\n",
      "367\n",
      "373\n",
      "379\n",
      "383\n",
      "389\n",
      "397\n",
      "401\n",
      "409\n",
      "419\n",
      "421\n",
      "431\n",
      "433\n",
      "439\n",
      "443\n",
      "449\n",
      "457\n",
      "461\n",
      "463\n",
      "467\n",
      "479\n",
      "487\n",
      "491\n",
      "499\n",
      "503\n",
      "509\n",
      "521\n",
      "523\n",
      "541\n"
     ]
    }
   ],
   "source": [
    "def next_prime(n: int) -> int:\n",
    "    multiples = set([])\n",
    "    for i in range(2, n*n):\n",
    "        if i not in multiples:\n",
    "            for j in range(i*i, n*n, i):\n",
    "                multiples.add(j)\n",
    "            yield i\n",
    "        \n",
    "\n",
    "# def eratosthenes(n):\n",
    "#     multiples = []\n",
    "#     for i in range(2, n+1):\n",
    "#         if i not in multiples:\n",
    "#             print (i)\n",
    "#             for j in range(i*i, n+1, i):\n",
    "#                 multiples.append(j)\n",
    "\n",
    "gen = next_prime(110)\n",
    "\n",
    "for i in range(100):\n",
    "    print(next(gen))"
   ]
  },
  {
   "cell_type": "markdown",
   "metadata": {},
   "source": [
    "### Write a generator function that returns the next row of\n",
    "Pascal's Triangle each time it is called\n",
    "\n",
    "gen = pascals_triangle_gen()\n",
    "\n",
    "next(gen) -> [1]\n",
    "\n",
    "next(gen) -> [1, 1]\n",
    "\n",
    "next(gen) -> [1, 2, 1]\n",
    "\n",
    "next(gen) -> [1, 3, 3, 1]\n",
    "\n",
    "next(gen) -> [1, 4, 6, 4, 1]"
   ]
  },
  {
   "cell_type": "code",
   "execution_count": null,
   "metadata": {},
   "outputs": [],
   "source": [
    "def pascals_triangle_gen() -> list:\n",
    "    \n"
   ]
  }
 ],
 "metadata": {
  "interpreter": {
   "hash": "aee8b7b246df8f9039afb4144a1f6fd8d2ca17a180786b69acc140d282b71a49"
  },
  "kernelspec": {
   "display_name": "Python 3.9.6 64-bit",
   "name": "python3"
  },
  "language_info": {
   "codemirror_mode": {
    "name": "ipython",
    "version": 3
   },
   "file_extension": ".py",
   "mimetype": "text/x-python",
   "name": "python",
   "nbconvert_exporter": "python",
   "pygments_lexer": "ipython3",
   "version": "3.9.6"
  },
  "orig_nbformat": 4
 },
 "nbformat": 4,
 "nbformat_minor": 2
}
