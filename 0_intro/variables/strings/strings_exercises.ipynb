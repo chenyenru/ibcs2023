{
 "cells": [
  {
   "cell_type": "markdown",
   "source": [
    "## 1\n",
    "Write a python program to count and return a dictinoary of character frequencies in a given string\n",
    "\n",
    "Sample function and result:\n",
    "```\n",
    "google.com\n",
    "Expected result: {'g':2, 'o': 3, 'l': 2, 'e': 1, '.':1, 'c':1}\n",
    "```"
   ],
   "metadata": {}
  },
  {
   "cell_type": "code",
   "execution_count": 5,
   "source": [
    "def count_freq(list1):\n",
    "    list2 = list(set(list1))\n",
    "    newlist = []\n",
    "    for val in list2:\n",
    "        newlist += [[val, list1.count(val)]]\n",
    "    return dict(newlist)\n",
    "\n",
    "def count_freq2(list1):\n",
    "    freq = [(x, list1.count(x))\n",
    "            for i, x in enumerate(list1) if i == list1.index(x)]\n",
    "    print(\"Solution 2: \", dict(freq))\n",
    "count_freq('google.com')\n",
    "count_freq2('google.com')"
   ],
   "outputs": [
    {
     "output_type": "stream",
     "name": "stdout",
     "text": [
      "Solution 2:  {'g': 2, 'o': 3, 'l': 1, 'e': 1, '.': 1, 'c': 1, 'm': 1}\n"
     ]
    }
   ],
   "metadata": {}
  },
  {
   "cell_type": "markdown",
   "source": [
    "## 2\n",
    "Write a Python function to insert a string in the middle of a string\n",
    "\n",
    "Sample function and result:\n",
    "```\n",
    "insert_string_middle('[[]]', 'Python') -> [[Python]]\n",
    "insert_string_middle('{{}}', 'PIP') -> {{PIP}}\n",
    "insert_string_middle('|||', 'Unbalanced') -> |'Unbalanced'||)\n",
    "\n",
    "wrapper = {{}}\n",
    "inclusion = \"Python\"\n",
    "\n",
    "```"
   ],
   "metadata": {}
  },
  {
   "cell_type": "code",
   "execution_count": 37,
   "source": [
    "wrapper = \"[[]]\"\n",
    "text = \"python\"\n",
    "length = len(wrapper)\n",
    "print(length)\n",
    "middle = int(length/2)\n",
    "new_text = wrapper[:middle] + text + wrapper[middle:]\n",
    "print(new_text)"
   ],
   "outputs": [
    {
     "output_type": "stream",
     "name": "stdout",
     "text": [
      "4\n",
      "[[python]]\n"
     ]
    }
   ],
   "metadata": {}
  },
  {
   "cell_type": "code",
   "execution_count": 38,
   "source": [
    "def insert_string_middle(wrapper, text):\n",
    "    length = len(wrapper)\n",
    "    if (length%2 == 0):\n",
    "        middle = int(length/2)\n",
    "        new_text = wrapper[:middle] + text + wrapper[middle:]\n",
    "    else:\n",
    "        middle = int((length-1)/2)\n",
    "        new_text = wrapper[:middle] + text + wrapper[middle:]\n",
    "    \n",
    "    return new_text"
   ],
   "outputs": [],
   "metadata": {}
  },
  {
   "cell_type": "code",
   "execution_count": 41,
   "source": [
    "insert_string_middle('[[]]', 'Python')\n",
    "insert_string_middle(\"|||||\", \"Unbalanced\")"
   ],
   "outputs": [
    {
     "output_type": "execute_result",
     "data": {
      "text/plain": [
       "'||Unbalanced|||'"
      ]
     },
     "metadata": {},
     "execution_count": 41
    }
   ],
   "metadata": {}
  },
  {
   "cell_type": "markdown",
   "source": [
    "## 3\n",
    "Write a python program to display a number with a comma separator. \n",
    "\n",
    "Sample function and result: \n",
    "```\n",
    "    comma_sep(\"1102) => 1, 102\n",
    "    comma_sep(\"2340340958\") => 2, 340, 340, 958\n",
    "    Advanced: comma_sep(\"2340340958\", 4) => 23, 4034, 0958\n",
    "```"
   ],
   "metadata": {}
  },
  {
   "cell_type": "markdown",
   "source": [
    "## 4\n",
    "Write a Python program to move spaces to the front of a given string.\n",
    "\n",
    "Sample function and result:\n",
    "```\n",
    "front_pack(\"This is a sentence with several spaces\") =>\n",
    "        \"      Thisisasentencewithseveralspaces\"\n",
    "```"
   ],
   "metadata": {}
  },
  {
   "cell_type": "code",
   "execution_count": 48,
   "source": [
    "def front_pack(text):\n",
    "    count = text.count(\" \")\n",
    "    new_text = text.replace(\" \", \"\")\n",
    "    final_text = \" \"* count + new_text\n",
    "    return final_text\n",
    "front_pack(\"this is a sentence with many spaces\")"
   ],
   "outputs": [
    {
     "output_type": "execute_result",
     "data": {
      "text/plain": [
       "'      thisisasentencewithmanyspaces'"
      ]
     },
     "metadata": {},
     "execution_count": 48
    }
   ],
   "metadata": {}
  },
  {
   "cell_type": "markdown",
   "source": [
    "## 5\n",
    "Write a Python program to compute sum of digits of a given number string\n",
    "\n",
    "Sample function and result:\n",
    "```\n",
    "sum_digits(\"394857\") =>\n",
    "    3+9+4+8+5+7\n",
    "```"
   ],
   "metadata": {}
  },
  {
   "cell_type": "code",
   "execution_count": 68,
   "source": [
    "def sum_digits(text):\n",
    "    new = list(text)\n",
    "    new_new = sum([int(x) for x in new])\n",
    "    return new_new\n",
    "print(sum_digits('1234'))"
   ],
   "outputs": [
    {
     "output_type": "stream",
     "name": "stdout",
     "text": [
      "10\n"
     ]
    }
   ],
   "metadata": {}
  },
  {
   "cell_type": "markdown",
   "source": [
    "# 6\n",
    "Write a Python program to determine if a set of parentheses are balanced\n",
    "\n",
    "For example, \n",
    "```\n",
    ")((((((())))))) is unbalances because of the )\n",
    "```"
   ],
   "metadata": {}
  },
  {
   "cell_type": "markdown",
   "source": [],
   "metadata": {}
  },
  {
   "cell_type": "code",
   "execution_count": 54,
   "source": [
    "text = \"((())((((((\"\n",
    "new_text = text.split(\"\").sort()\n",
    "print(new_text)"
   ],
   "outputs": [
    {
     "output_type": "error",
     "ename": "ValueError",
     "evalue": "empty separator",
     "traceback": [
      "\u001b[0;31m---------------------------------------------------------------------------\u001b[0m",
      "\u001b[0;31mValueError\u001b[0m                                Traceback (most recent call last)",
      "\u001b[0;32m/var/folders/s0/zf7j31t95c34xd708zpw764r0000gn/T/ipykernel_32057/390673853.py\u001b[0m in \u001b[0;36m<module>\u001b[0;34m\u001b[0m\n\u001b[1;32m      1\u001b[0m \u001b[0mtext\u001b[0m \u001b[0;34m=\u001b[0m \u001b[0;34m\"((())((((((\"\u001b[0m\u001b[0;34m\u001b[0m\u001b[0;34m\u001b[0m\u001b[0m\n\u001b[0;32m----> 2\u001b[0;31m \u001b[0mnew_text\u001b[0m \u001b[0;34m=\u001b[0m \u001b[0mtext\u001b[0m\u001b[0;34m.\u001b[0m\u001b[0msplit\u001b[0m\u001b[0;34m(\u001b[0m\u001b[0;34m\"\"\u001b[0m\u001b[0;34m)\u001b[0m\u001b[0;34m.\u001b[0m\u001b[0msort\u001b[0m\u001b[0;34m(\u001b[0m\u001b[0;34m)\u001b[0m\u001b[0;34m\u001b[0m\u001b[0;34m\u001b[0m\u001b[0m\n\u001b[0m\u001b[1;32m      3\u001b[0m \u001b[0mprint\u001b[0m\u001b[0;34m(\u001b[0m\u001b[0mnew_text\u001b[0m\u001b[0;34m)\u001b[0m\u001b[0;34m\u001b[0m\u001b[0;34m\u001b[0m\u001b[0m\n",
      "\u001b[0;31mValueError\u001b[0m: empty separator"
     ]
    }
   ],
   "metadata": {}
  },
  {
   "cell_type": "code",
   "execution_count": null,
   "source": [],
   "outputs": [],
   "metadata": {}
  }
 ],
 "metadata": {
  "orig_nbformat": 4,
  "language_info": {
   "name": "python",
   "version": "3.9.6",
   "mimetype": "text/x-python",
   "codemirror_mode": {
    "name": "ipython",
    "version": 3
   },
   "pygments_lexer": "ipython3",
   "nbconvert_exporter": "python",
   "file_extension": ".py"
  },
  "kernelspec": {
   "name": "python3",
   "display_name": "Python 3.9.6 64-bit"
  },
  "interpreter": {
   "hash": "aee8b7b246df8f9039afb4144a1f6fd8d2ca17a180786b69acc140d282b71a49"
  }
 },
 "nbformat": 4,
 "nbformat_minor": 2
}