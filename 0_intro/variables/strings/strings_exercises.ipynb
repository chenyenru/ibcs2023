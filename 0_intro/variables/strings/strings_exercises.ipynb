{
 "cells": [
  {
   "cell_type": "markdown",
   "metadata": {},
   "source": [
    "## 1\n",
    "Write a python program to count and return a dictinoary of character frequencies in a given string\n",
    "\n",
    "Sample function and result:\n",
    "```\n",
    "google.com\n",
    "Expected result: {'g':2, 'o': 3, 'l': 2, 'e': 1, '.':1, 'c':1}\n",
    "```"
   ]
  },
  {
   "cell_type": "code",
   "execution_count": 5,
   "metadata": {},
   "outputs": [
    {
     "name": "stdout",
     "output_type": "stream",
     "text": [
      "Solution 2:  {'g': 2, 'o': 3, 'l': 1, 'e': 1, '.': 1, 'c': 1, 'm': 1}\n"
     ]
    }
   ],
   "source": [
    "def count_freq(list1):\n",
    "    list2 = list(set(list1))\n",
    "    newlist = []\n",
    "    for val in list2:\n",
    "        newlist += [[val, list1.count(val)]]\n",
    "    return dict(newlist)\n",
    "\n",
    "def count_freq2(list1):\n",
    "    freq = [(x, list1.count(x))\n",
    "            for i, x in enumerate(list1) if i == list1.index(x)]\n",
    "    print(\"Solution 2: \", dict(freq))\n",
    "count_freq('google.com')\n",
    "count_freq2('google.com')"
   ]
  },
  {
   "cell_type": "markdown",
   "metadata": {},
   "source": [
    "## 2\n",
    "Write a Python function to insert a string in the middle of a string\n",
    "\n",
    "Sample function and result:\n",
    "```\n",
    "insert_string_middle('[[]]', 'Python') -> [[Python]]\n",
    "insert_string_middle('{{}}', 'PIP') -> {{PIP}}\n",
    "insert_string_middle('|||', 'Unbalanced') -> |'Unbalanced'||)\n",
    "\n",
    "wrapper = {{}}\n",
    "inclusion = \"Python\"\n",
    "\n",
    "```"
   ]
  },
  {
   "cell_type": "code",
   "execution_count": 37,
   "metadata": {},
   "outputs": [
    {
     "name": "stdout",
     "output_type": "stream",
     "text": [
      "4\n",
      "[[python]]\n"
     ]
    }
   ],
   "source": [
    "wrapper = \"[[]]\"\n",
    "text = \"python\"\n",
    "length = len(wrapper)\n",
    "print(length)\n",
    "middle = int(length/2)\n",
    "new_text = wrapper[:middle] + text + wrapper[middle:]\n",
    "print(new_text)"
   ]
  },
  {
   "cell_type": "code",
   "execution_count": 38,
   "metadata": {},
   "outputs": [],
   "source": [
    "def insert_string_middle(wrapper, text):\n",
    "    length = len(wrapper)\n",
    "    if (length%2 == 0):\n",
    "        middle = int(length/2)\n",
    "        new_text = wrapper[:middle] + text + wrapper[middle:]\n",
    "    else:\n",
    "        middle = int((length-1)/2)\n",
    "        new_text = wrapper[:middle] + text + wrapper[middle:]\n",
    "    \n",
    "    return new_text"
   ]
  },
  {
   "cell_type": "code",
   "execution_count": 41,
   "metadata": {},
   "outputs": [
    {
     "data": {
      "text/plain": [
       "'||Unbalanced|||'"
      ]
     },
     "execution_count": 41,
     "metadata": {},
     "output_type": "execute_result"
    }
   ],
   "source": [
    "insert_string_middle('[[]]', 'Python')\n",
    "insert_string_middle(\"|||||\", \"Unbalanced\")"
   ]
  },
  {
   "cell_type": "markdown",
   "metadata": {},
   "source": [
    "## 3\n",
    "Write a python program to display a number with a comma separator. \n",
    "\n",
    "Sample function and result: \n",
    "```\n",
    "    comma_sep(\"1102\") => 1, 102\n",
    "    comma_sep(\"2340340958\") => 2, 340, 340, 958\n",
    "    Advanced: comma_sep(\"2340340958\", 4) => 23, 4034, 0958\n",
    "```"
   ]
  },
  {
   "cell_type": "code",
   "execution_count": 88,
   "metadata": {},
   "outputs": [
    {
     "name": "stdout",
     "output_type": "stream",
     "text": [
      "23,234,234,234\n"
     ]
    }
   ],
   "source": [
    "def comma_sep(text):\n",
    "    new_text = (\"{:,}\".format(int(text)))\n",
    "    return new_text\n",
    "\n",
    "print(comma_sep(\"23234234234\"))"
   ]
  },
  {
   "cell_type": "markdown",
   "metadata": {},
   "source": [
    "## 4\n",
    "Write a Python program to move spaces to the front of a given string.\n",
    "\n",
    "Sample function and result:\n",
    "```\n",
    "front_pack(\"This is a sentence with several spaces\") =>\n",
    "        \"      Thisisasentencewithseveralspaces\"\n",
    "```"
   ]
  },
  {
   "cell_type": "code",
   "execution_count": 48,
   "metadata": {},
   "outputs": [
    {
     "data": {
      "text/plain": [
       "'      thisisasentencewithmanyspaces'"
      ]
     },
     "execution_count": 48,
     "metadata": {},
     "output_type": "execute_result"
    }
   ],
   "source": [
    "def front_pack(text):\n",
    "    count = text.count(\" \")\n",
    "    new_text = text.replace(\" \", \"\")\n",
    "    final_text = \" \"* count + new_text\n",
    "    return final_text\n",
    "front_pack(\"this is a sentence with many spaces\")"
   ]
  },
  {
   "cell_type": "markdown",
   "metadata": {},
   "source": [
    "## 5\n",
    "Write a Python program to compute sum of digits of a given number string\n",
    "\n",
    "Sample function and result:\n",
    "```\n",
    "sum_digits(\"394857\") =>\n",
    "    3+9+4+8+5+7\n",
    "```"
   ]
  },
  {
   "cell_type": "code",
   "execution_count": 68,
   "metadata": {},
   "outputs": [
    {
     "name": "stdout",
     "output_type": "stream",
     "text": [
      "10\n"
     ]
    }
   ],
   "source": [
    "def sum_digits(text):\n",
    "    new = list(text)\n",
    "    new_new = sum([int(x) for x in new])\n",
    "    return new_new\n",
    "print(sum_digits('1234'))"
   ]
  },
  {
   "cell_type": "markdown",
   "metadata": {},
   "source": [
    "# 6\n",
    "Write a Python program to determine if a set of parentheses are balanced\n",
    "\n",
    "For example, \n",
    "```\n",
    ")((((((())))))) is unbalances because of the )\n",
    "```"
   ]
  },
  {
   "cell_type": "markdown",
   "metadata": {},
   "source": []
  },
  {
   "cell_type": "code",
   "execution_count": 79,
   "metadata": {},
   "outputs": [
    {
     "data": {
      "text/plain": [
       "False"
      ]
     },
     "execution_count": 79,
     "metadata": {},
     "output_type": "execute_result"
    }
   ],
   "source": [
    "text = \"()(((\"\n",
    "def count_freq(list1):\n",
    "    list2 = list(set(list1))\n",
    "    newlist = []\n",
    "    for val in list2:\n",
    "        newlist += [[val, list1.count(val)]]\n",
    "    if newlist[0][1] == newlist[1][1]:\n",
    "        return True\n",
    "    else:\n",
    "        return False\n",
    "count_freq(text)"
   ]
  },
  {
   "cell_type": "code",
   "execution_count": null,
   "metadata": {},
   "outputs": [],
   "source": []
  }
 ],
 "metadata": {
  "interpreter": {
   "hash": "aee8b7b246df8f9039afb4144a1f6fd8d2ca17a180786b69acc140d282b71a49"
  },
  "kernelspec": {
   "display_name": "Python 3.9.6 64-bit",
   "name": "python3"
  },
  "language_info": {
   "codemirror_mode": {
    "name": "ipython",
    "version": 3
   },
   "file_extension": ".py",
   "mimetype": "text/x-python",
   "name": "python",
   "nbconvert_exporter": "python",
   "pygments_lexer": "ipython3",
   "version": "3.9.6"
  },
  "orig_nbformat": 4
 },
 "nbformat": 4,
 "nbformat_minor": 2
}
