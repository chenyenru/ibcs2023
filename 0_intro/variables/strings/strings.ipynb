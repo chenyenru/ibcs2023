{
 "cells": [
  {
   "cell_type": "code",
   "execution_count": 1,
   "source": [
    "import sys\n",
    "\n",
    "text = \"This is a string\"\n",
    "text = 'This is a string'\n",
    "\n",
    "text = \"\"\"This is a string that preserves whitespace\n",
    "I can make it more than one line\n",
    "and the new lines will be preserved.\"\"\"\n",
    "\n",
    "\n",
    "print(text)"
   ],
   "outputs": [
    {
     "output_type": "stream",
     "name": "stdout",
     "text": [
      "This is a string that preserves whitespace\n",
      "I can make it more than one line\n",
      "and the new lines will be preserved.\n"
     ]
    }
   ],
   "metadata": {}
  },
  {
   "cell_type": "code",
   "execution_count": 4,
   "source": [
    "text = \"I'm a string. \\nThis is a new line \\n \\tI'm indented\"\n",
    "print(text)"
   ],
   "outputs": [
    {
     "output_type": "stream",
     "name": "stdout",
     "text": [
      "I'm a string. \n",
      "This is a new line \n",
      " \tI'm indented\n"
     ]
    }
   ],
   "metadata": {}
  },
  {
   "cell_type": "markdown",
   "source": [
    "## Escape Character"
   ],
   "metadata": {}
  },
  {
   "cell_type": "code",
   "execution_count": 8,
   "source": [
    "text = \"\\\"I\\'m a quoted string\\\"\"\n",
    "#or also\n",
    "text = '\"I\\'m a quoted string\"'\n",
    "#or also\n",
    "text = \"\"\"\"I'm a quoted string. I don't need escape backslash because I have triple quote\"\"\"\n",
    "print(text)"
   ],
   "outputs": [
    {
     "output_type": "stream",
     "name": "stdout",
     "text": [
      "\"I'm a quoted string. I don't need escape backslash because I have triple quote\n"
     ]
    }
   ],
   "metadata": {}
  },
  {
   "cell_type": "markdown",
   "source": [
    "## Ignore Special Characters with 'r'"
   ],
   "metadata": {}
  },
  {
   "cell_type": "code",
   "execution_count": 14,
   "source": [
    "text = r\"Special characters do nothing \\n \\n \\\\n (new line from java) \\t See, no new lines\"\n",
    "print(text)"
   ],
   "outputs": [
    {
     "output_type": "stream",
     "name": "stdout",
     "text": [
      "Special characters do nothing \\n \\n \\\\n (new line from java) \\t See, no new lines\n"
     ]
    }
   ],
   "metadata": {}
  },
  {
   "cell_type": "code",
   "execution_count": 17,
   "source": [
    "print(sys.getdefaultencoding())\n",
    "# utf-8 enables us to type characters other than English"
   ],
   "outputs": [
    {
     "output_type": "stream",
     "name": "stdout",
     "text": [
      "utf-8\n"
     ]
    }
   ],
   "metadata": {}
  },
  {
   "cell_type": "markdown",
   "source": [
    "## Unicode Characters"
   ],
   "metadata": {}
  },
  {
   "cell_type": "code",
   "execution_count": 22,
   "source": [
    "text = \"The circumference of a circle is 2\\u03c0r \\U0001f600\"\n",
    "print(text)"
   ],
   "outputs": [
    {
     "output_type": "stream",
     "name": "stdout",
     "text": [
      "The circumference of a circle is 2πr 😀\n"
     ]
    }
   ],
   "metadata": {}
  },
  {
   "cell_type": "code",
   "execution_count": 23,
   "source": [
    "text = \"我會寫中文\"\n",
    "print(text)"
   ],
   "outputs": [
    {
     "output_type": "stream",
     "name": "stdout",
     "text": [
      "我會寫中文\n"
     ]
    }
   ],
   "metadata": {}
  },
  {
   "cell_type": "code",
   "execution_count": 26,
   "source": [
    "text = \"I'm a long sentence with a lot of useless words\""
   ],
   "outputs": [],
   "metadata": {}
  },
  {
   "cell_type": "markdown",
   "source": [
    "### STRINGS ARE IMMUTABLE!"
   ],
   "metadata": {}
  },
  {
   "cell_type": "code",
   "execution_count": 27,
   "source": [
    "sub = text[10:]\n",
    "print(sub)"
   ],
   "outputs": [
    {
     "output_type": "stream",
     "name": "stdout",
     "text": [
      " sentence with a lot of useless words\n"
     ]
    }
   ],
   "metadata": {}
  },
  {
   "cell_type": "code",
   "execution_count": 36,
   "source": [
    "text = \"24\"\n",
    "number = text.isdigit()\n",
    "print(number)\n",
    "letter = text.isalpha()\n",
    "print(letter)\n",
    "starts_with_cap = text.istitle()\n",
    "print(starts_with_cap)\n",
    "\n",
    "\n",
    "\n",
    "text = \"        \\n\\n\\n\\n\\t\\t\\t\\t\"\n",
    "space = text.isspace()\n",
    "print(space)"
   ],
   "outputs": [
    {
     "output_type": "stream",
     "name": "stdout",
     "text": [
      "True\n",
      "False\n",
      "False\n",
      "True\n"
     ]
    }
   ],
   "metadata": {}
  },
  {
   "cell_type": "code",
   "execution_count": 46,
   "source": [
    "text = \"I'm a long sentence with a lot of useless words\"\n",
    "length = len(text)\n",
    "print(length)\n",
    "print(text.count(\"l\"))\n",
    "\n",
    "print(text.title())\n",
    "print(text.capitalize())\n",
    "print(text.lower())\n",
    "print(text.upper())\n",
    "# lower() and upper() will come in handful when we're designing †hose functions"
   ],
   "outputs": [
    {
     "output_type": "stream",
     "name": "stdout",
     "text": [
      "47\n",
      "3\n",
      "I'M A Long Sentence With A Lot Of Useless Words\n",
      "I'm a long sentence with a lot of useless words\n",
      "i'm a long sentence with a lot of useless words\n",
      "I'M A LONG SENTENCE WITH A LOT OF USELESS WORDS\n",
      "I'm a long sentence with a lot of useless words\n"
     ]
    }
   ],
   "metadata": {}
  },
  {
   "cell_type": "code",
   "execution_count": 48,
   "source": [
    "text = \"I'm a bit shorter\"\n",
    "print(text.center(30))\n",
    "# This will print the string with centered text\n",
    "\n",
    "print(text.rjust(30))"
   ],
   "outputs": [
    {
     "output_type": "stream",
     "name": "stdout",
     "text": [
      "      I'm a bit shorter       \n",
      "             I'm a bit shorter\n"
     ]
    }
   ],
   "metadata": {}
  },
  {
   "cell_type": "markdown",
   "source": [
    "## Replace"
   ],
   "metadata": {}
  },
  {
   "cell_type": "code",
   "execution_count": 4,
   "source": [
    "text = \"The big blue bird is biting the branch\"\n",
    "new_text = text.replace('bi', 'xm')\n",
    "print(new_text)\n",
    "new_text = text.replace('bi', 'xx', 1)\n",
    "print(new_text)"
   ],
   "outputs": [
    {
     "output_type": "stream",
     "name": "stdout",
     "text": [
      "The xmg blue xmrd is xmting the branch\n",
      "The xxg blue bird is biting the branch\n"
     ]
    }
   ],
   "metadata": {}
  },
  {
   "cell_type": "markdown",
   "source": [
    "## Split"
   ],
   "metadata": {}
  },
  {
   "cell_type": "code",
   "execution_count": 6,
   "source": [
    "words = text.split(\" \")\n",
    "print(words)"
   ],
   "outputs": [
    {
     "output_type": "stream",
     "name": "stdout",
     "text": [
      "['The', 'big', 'blue', 'bird', 'is', 'biting', 'the', 'branch']\n"
     ]
    }
   ],
   "metadata": {}
  },
  {
   "cell_type": "markdown",
   "source": [
    "## "
   ],
   "metadata": {}
  },
  {
   "cell_type": "code",
   "execution_count": 17,
   "source": [
    "start = text.startswith('T')\n",
    "print(start)\n",
    "start = text.startswith('T', 5)\n",
    "print(start)\n",
    "start = text.startswith('T', 5, 10)\n",
    "print(start)\n",
    "\n",
    "loc = text.endswith('bi')\n",
    "print(loc)\n",
    "\n",
    "# This is going to find the second location of text that ends with \"bi\"\n",
    "loc = text.endswith('bi', loc + 1)\n",
    "print(loc)\n",
    "\n",
    "# This is going to start finding from the right, also known as the end of the string\n",
    "loc = text.rfind(\"bi\")\n",
    "print(loc)\n",
    "\n",
    "#start finding from the left\n",
    "loc = text.find(\"bi\")\n",
    "print(loc)\n",
    "\n",
    "loc = text.index(\"bi\")\n",
    "print(loc)\n",
    "\n",
    "## --> What is the difference between .find() and .index()\n",
    "loc = text.find(\"z\")\n",
    "print(loc)\n",
    "#loc = text.index(\"z\")\n",
    "#print(loc)\n",
    "\n",
    "# This shows that index() returns error when not found, whereas find() does not\n",
    "# Great for using index() in requiring machine critical code"
   ],
   "outputs": [
    {
     "output_type": "stream",
     "name": "stdout",
     "text": [
      "False\n",
      "False\n",
      "False\n",
      "False\n",
      "False\n",
      "-1\n",
      "-1\n"
     ]
    },
    {
     "output_type": "error",
     "ename": "ValueError",
     "evalue": "substring not found",
     "traceback": [
      "\u001b[0;31m---------------------------------------------------------------------------\u001b[0m",
      "\u001b[0;31mValueError\u001b[0m                                Traceback (most recent call last)",
      "\u001b[0;32m/var/folders/s0/zf7j31t95c34xd708zpw764r0000gn/T/ipykernel_31456/3812159975.py\u001b[0m in \u001b[0;36m<module>\u001b[0;34m\u001b[0m\n\u001b[1;32m     21\u001b[0m \u001b[0mprint\u001b[0m\u001b[0;34m(\u001b[0m\u001b[0mloc\u001b[0m\u001b[0;34m)\u001b[0m\u001b[0;34m\u001b[0m\u001b[0;34m\u001b[0m\u001b[0m\n\u001b[1;32m     22\u001b[0m \u001b[0;34m\u001b[0m\u001b[0m\n\u001b[0;32m---> 23\u001b[0;31m \u001b[0mloc\u001b[0m \u001b[0;34m=\u001b[0m \u001b[0mtext\u001b[0m\u001b[0;34m.\u001b[0m\u001b[0mindex\u001b[0m\u001b[0;34m(\u001b[0m\u001b[0;34m\"bi\"\u001b[0m\u001b[0;34m)\u001b[0m\u001b[0;34m\u001b[0m\u001b[0;34m\u001b[0m\u001b[0m\n\u001b[0m\u001b[1;32m     24\u001b[0m \u001b[0mprint\u001b[0m\u001b[0;34m(\u001b[0m\u001b[0mloc\u001b[0m\u001b[0;34m)\u001b[0m\u001b[0;34m\u001b[0m\u001b[0;34m\u001b[0m\u001b[0m\n\u001b[1;32m     25\u001b[0m \u001b[0;34m\u001b[0m\u001b[0m\n",
      "\u001b[0;31mValueError\u001b[0m: substring not found"
     ]
    }
   ],
   "metadata": {}
  },
  {
   "cell_type": "markdown",
   "source": [
    "## Joining words with delimitters"
   ],
   "metadata": {}
  },
  {
   "cell_type": "code",
   "execution_count": 18,
   "source": [
    "words = [\"One\", \"Two\", \"Three\", \"Four\"]\n",
    "text = \" \".join(words)\n",
    "print(text)\n",
    "\n",
    "text = \"\\t\".join(words)\n",
    "print(text)\n",
    "\n",
    "text = \"\\n\".join(words)\n",
    "print(text)"
   ],
   "outputs": [
    {
     "output_type": "stream",
     "name": "stdout",
     "text": [
      "One Two Three Four\n",
      "One\tTwo\tThree\tFour\n",
      "One\n",
      "Two\n",
      "Three\n",
      "Four\n"
     ]
    }
   ],
   "metadata": {}
  },
  {
   "cell_type": "code",
   "execution_count": null,
   "source": [],
   "outputs": [],
   "metadata": {}
  }
 ],
 "metadata": {
  "orig_nbformat": 4,
  "language_info": {
   "name": "python",
   "version": "3.9.6",
   "mimetype": "text/x-python",
   "codemirror_mode": {
    "name": "ipython",
    "version": 3
   },
   "pygments_lexer": "ipython3",
   "nbconvert_exporter": "python",
   "file_extension": ".py"
  },
  "kernelspec": {
   "name": "python3",
   "display_name": "Python 3.9.6 64-bit"
  },
  "interpreter": {
   "hash": "aee8b7b246df8f9039afb4144a1f6fd8d2ca17a180786b69acc140d282b71a49"
  }
 },
 "nbformat": 4,
 "nbformat_minor": 2
}